{
 "cells": [
  {
   "cell_type": "markdown",
   "metadata": {},
   "source": [
    "# Numpy"
   ]
  },
  {
   "cell_type": "markdown",
   "metadata": {},
   "source": [
    "**Why numpy?**\n",
    "* Vectorization\n",
    "* NumPy is closely related to PyTorch\n",
    "* [More...](https://decodingdatascience.com/numpy-the-foundation-of-data-science-and-ai/)\n",
    "\n",
    "![alt text](np_uses.png)"
   ]
  },
  {
   "cell_type": "markdown",
   "metadata": {},
   "source": [
    "## Basics"
   ]
  },
  {
   "cell_type": "code",
   "execution_count": 1,
   "metadata": {},
   "outputs": [],
   "source": [
    "# Import as np\n",
    "import numpy as np\n",
    "import matplotlib.pyplot as plt"
   ]
  },
  {
   "cell_type": "code",
   "execution_count": 2,
   "metadata": {},
   "outputs": [
    {
     "data": {
      "text/plain": [
       "array([[1, 2, 3],\n",
       "       [4, 5, 6]])"
      ]
     },
     "execution_count": 2,
     "metadata": {},
     "output_type": "execute_result"
    }
   ],
   "source": [
    "# Create 2-D numpy array (int)\n",
    "A = np.array([[1, 2, 3], [4, 5, 6]])\n",
    "A"
   ]
  },
  {
   "cell_type": "code",
   "execution_count": 3,
   "metadata": {},
   "outputs": [
    {
     "data": {
      "text/plain": [
       "array([1., 2., 3.])"
      ]
     },
     "execution_count": 3,
     "metadata": {},
     "output_type": "execute_result"
    }
   ],
   "source": [
    "# Create numpy array (float)\n",
    "Af = np.array([1, 2, 3], float)\n",
    "Af"
   ]
  },
  {
   "cell_type": "code",
   "execution_count": 4,
   "metadata": {},
   "outputs": [
    {
     "data": {
      "text/plain": [
       "array([0. , 0.2, 0.4, 0.6, 0.8])"
      ]
     },
     "execution_count": 4,
     "metadata": {},
     "output_type": "execute_result"
    }
   ],
   "source": [
    "# Create array `within` interval [start-stop] with step (step)\n",
    "A = np.arange(start=0, stop=1, step=0.2)\n",
    "A"
   ]
  },
  {
   "cell_type": "code",
   "execution_count": 5,
   "metadata": {},
   "outputs": [
    {
     "data": {
      "text/plain": [
       "array([0.  , 0.25, 0.5 , 0.75, 1.  ])"
      ]
     },
     "execution_count": 5,
     "metadata": {},
     "output_type": "execute_result"
    }
   ],
   "source": [
    "# Create evenly spaced numbers of size (num) `over` interval [start-stop]\n",
    "A = np.linspace(start=0, stop=1, num=5)\n",
    "A"
   ]
  },
  {
   "cell_type": "code",
   "execution_count": 6,
   "metadata": {},
   "outputs": [
    {
     "data": {
      "text/plain": [
       "array([[0., 0., 0.],\n",
       "       [0., 0., 0.]])"
      ]
     },
     "execution_count": 6,
     "metadata": {},
     "output_type": "execute_result"
    }
   ],
   "source": [
    "# Create array of zeros of shape (shape)\n",
    "A = np.zeros(shape=(2,3))\n",
    "A"
   ]
  },
  {
   "cell_type": "code",
   "execution_count": 7,
   "metadata": {},
   "outputs": [
    {
     "data": {
      "text/plain": [
       "array([[1., 1.],\n",
       "       [1., 1.],\n",
       "       [1., 1.]])"
      ]
     },
     "execution_count": 7,
     "metadata": {},
     "output_type": "execute_result"
    }
   ],
   "source": [
    "# Create array of ones of shape (shape)\n",
    "A = np.ones(shape=(3, 2))\n",
    "A"
   ]
  },
  {
   "cell_type": "code",
   "execution_count": 8,
   "metadata": {},
   "outputs": [
    {
     "data": {
      "text/plain": [
       "array([[0, 1, 2],\n",
       "       [3, 4, 5],\n",
       "       [6, 7, 8]])"
      ]
     },
     "metadata": {},
     "output_type": "display_data"
    },
    {
     "name": "stdout",
     "output_type": "stream",
     "text": [
      "Extract\n"
     ]
    },
    {
     "data": {
      "text/plain": [
       "array([0, 4, 8])"
      ]
     },
     "metadata": {},
     "output_type": "display_data"
    },
    {
     "name": "stdout",
     "output_type": "stream",
     "text": [
      "Construct\n"
     ]
    },
    {
     "data": {
      "text/plain": [
       "array([[0, 0, 0],\n",
       "       [0, 4, 0],\n",
       "       [0, 0, 8]])"
      ]
     },
     "metadata": {},
     "output_type": "display_data"
    }
   ],
   "source": [
    "A = np.arange(9).reshape((3, 3))\n",
    "display(A)\n",
    "# `Extract` the main diagonal\n",
    "print(\"Extract\")\n",
    "display(np.diag(A))\n",
    "# `Construct` array with this diagonal\n",
    "print(\"Construct\")\n",
    "display(np.diag(np.diag(A)))"
   ]
  },
  {
   "cell_type": "code",
   "execution_count": 9,
   "metadata": {},
   "outputs": [
    {
     "data": {
      "text/plain": [
       "array([1, 5])"
      ]
     },
     "metadata": {},
     "output_type": "display_data"
    },
    {
     "data": {
      "text/plain": [
       "array([3, 7])"
      ]
     },
     "metadata": {},
     "output_type": "display_data"
    }
   ],
   "source": [
    "# Extract the diagonal above the main diagonal\n",
    "display(np.diag(A, k=1))\n",
    "\n",
    "# Extract the diagonal bellow the main diagonal\n",
    "display(np.diag(A, k=-1))"
   ]
  },
  {
   "cell_type": "code",
   "execution_count": 10,
   "metadata": {},
   "outputs": [
    {
     "data": {
      "text/plain": [
       "(3, 3)"
      ]
     },
     "execution_count": 10,
     "metadata": {},
     "output_type": "execute_result"
    }
   ],
   "source": [
    "# Shape of the array\n",
    "A.shape"
   ]
  },
  {
   "cell_type": "code",
   "execution_count": 11,
   "metadata": {},
   "outputs": [
    {
     "data": {
      "text/plain": [
       "array([[0.65797425, 0.86127624, 0.08834243],\n",
       "       [0.20775768, 0.49238953, 0.39613441],\n",
       "       [0.72084196, 0.7393154 , 0.49353509]])"
      ]
     },
     "execution_count": 11,
     "metadata": {},
     "output_type": "execute_result"
    }
   ],
   "source": [
    "# Generate random numbers within the interval [0.0, 1)\n",
    "A = np.random.random(size=(3, 3))\n",
    "A"
   ]
  },
  {
   "cell_type": "code",
   "execution_count": 12,
   "metadata": {},
   "outputs": [
    {
     "data": {
      "text/plain": [
       "array([-0.46033155, -0.61048636, -0.73792681,  1.46553376, -1.91831896,\n",
       "       -0.55067894,  0.71359358, -0.28566728, -0.67357494, -0.39316282,\n",
       "        0.45620587,  0.22846618,  0.03774797, -1.36951732,  0.52749878,\n",
       "       -0.30592356, -0.8836449 , -0.18653765, -0.03496367,  1.37153861,\n",
       "        0.74999667, -1.93874792,  0.66470284, -1.36472069,  0.74659346,\n",
       "        0.62051793, -0.4111342 ,  0.3509464 , -0.99343041,  0.72791402,\n",
       "        0.57832429, -1.66143915,  1.31824999, -1.77792151, -0.04928815,\n",
       "       -0.44403305, -0.66158209,  1.32324805, -1.2047149 , -0.28788456,\n",
       "        0.83212761, -0.91530689,  0.65031159, -2.09107682,  0.68803511,\n",
       "        0.18733694, -1.52745053, -0.54936459, -1.94337683, -0.27153638,\n",
       "        0.62314499,  1.04694082,  1.0577844 , -0.37973973,  0.27014819,\n",
       "       -0.66153733,  0.31757743, -0.87722206,  1.26150802,  0.19569389,\n",
       "       -2.11695363,  0.4918256 , -0.74659912,  0.24264514, -1.16609688,\n",
       "        0.11344559, -0.24161075, -0.62920806, -1.04681032,  0.43074622,\n",
       "        1.56181564,  0.70451348,  1.3897751 , -0.39644588,  0.17673296,\n",
       "       -0.41266117,  0.12866825, -0.53614896, -0.90637863, -1.8628244 ,\n",
       "        0.84832177, -0.88635865,  0.08621186, -1.08619355, -2.50092393,\n",
       "        0.6921256 ,  1.05248574, -0.42941808,  1.12674719,  1.09242129,\n",
       "       -0.15087811, -0.58841251, -1.79739478,  0.24787972, -0.29752097,\n",
       "       -1.08194931,  0.21809315,  1.41096419,  0.2095904 ,  1.01188987])"
      ]
     },
     "metadata": {},
     "output_type": "display_data"
    },
    {
     "data": {
      "text/plain": [
       "(array([ 2.,  7.,  4., 11., 11., 16., 16., 16.,  9.,  8.]),\n",
       " array([-2.50092393, -2.09464997, -1.68837602, -1.28210206, -0.8758281 ,\n",
       "        -0.46955415, -0.06328019,  0.34299377,  0.74926773,  1.15554168,\n",
       "         1.56181564]),\n",
       " <BarContainer object of 10 artists>)"
      ]
     },
     "execution_count": 12,
     "metadata": {},
     "output_type": "execute_result"
    },
    {
     "data": {
      "image/png": "[encoded data removed]",
      "text/plain": [
       "<Figure size 640x480 with 1 Axes>"
      ]
     },
     "metadata": {},
     "output_type": "display_data"
    }
   ],
   "source": [
    "# Generate random numbers that follows normal (Gaussian) Distribution\n",
    "# loc = mean, scale = standard deviation\n",
    "A = np.random.normal(loc=0.0, scale=1.0, size=100)\n",
    "display(A)\n",
    "plt.hist(A)"
   ]
  },
  {
   "cell_type": "code",
   "execution_count": 13,
   "metadata": {},
   "outputs": [],
   "source": [
    "# Save to file\n",
    "np.savetxt(\"a_out.txt\", A)"
   ]
  },
  {
   "cell_type": "code",
   "execution_count": 14,
   "metadata": {},
   "outputs": [
    {
     "data": {
      "text/plain": [
       "array([-0.46033155, -0.61048636, -0.73792681,  1.46553376, -1.91831896,\n",
       "       -0.55067894,  0.71359358, -0.28566728, -0.67357494, -0.39316282,\n",
       "        0.45620587,  0.22846618,  0.03774797, -1.36951732,  0.52749878,\n",
       "       -0.30592356, -0.8836449 , -0.18653765, -0.03496367,  1.37153861,\n",
       "        0.74999667, -1.93874792,  0.66470284, -1.36472069,  0.74659346,\n",
       "        0.62051793, -0.4111342 ,  0.3509464 , -0.99343041,  0.72791402,\n",
       "        0.57832429, -1.66143915,  1.31824999, -1.77792151, -0.04928815,\n",
       "       -0.44403305, -0.66158209,  1.32324805, -1.2047149 , -0.28788456,\n",
       "        0.83212761, -0.91530689,  0.65031159, -2.09107682,  0.68803511,\n",
       "        0.18733694, -1.52745053, -0.54936459, -1.94337683, -0.27153638,\n",
       "        0.62314499,  1.04694082,  1.0577844 , -0.37973973,  0.27014819,\n",
       "       -0.66153733,  0.31757743, -0.87722206,  1.26150802,  0.19569389,\n",
       "       -2.11695363,  0.4918256 , -0.74659912,  0.24264514, -1.16609688,\n",
       "        0.11344559, -0.24161075, -0.62920806, -1.04681032,  0.43074622,\n",
       "        1.56181564,  0.70451348,  1.3897751 , -0.39644588,  0.17673296,\n",
       "       -0.41266117,  0.12866825, -0.53614896, -0.90637863, -1.8628244 ,\n",
       "        0.84832177, -0.88635865,  0.08621186, -1.08619355, -2.50092393,\n",
       "        0.6921256 ,  1.05248574, -0.42941808,  1.12674719,  1.09242129,\n",
       "       -0.15087811, -0.58841251, -1.79739478,  0.24787972, -0.29752097,\n",
       "       -1.08194931,  0.21809315,  1.41096419,  0.2095904 ,  1.01188987])"
      ]
     },
     "execution_count": 14,
     "metadata": {},
     "output_type": "execute_result"
    }
   ],
   "source": [
    "# Read from file\n",
    "B = np.loadtxt(\"a_out.txt\")\n",
    "B"
   ]
  },
  {
   "cell_type": "code",
   "execution_count": 15,
   "metadata": {},
   "outputs": [
    {
     "data": {
      "text/plain": [
       "array([[0., 0.],\n",
       "       [0., 0.]])"
      ]
     },
     "metadata": {},
     "output_type": "display_data"
    },
    {
     "data": {
      "text/plain": [
       "array([[1., 0.],\n",
       "       [0., 0.]])"
      ]
     },
     "metadata": {},
     "output_type": "display_data"
    }
   ],
   "source": [
    "A = np.zeros((2, 2))\n",
    "display(A)\n",
    "# Mutate the array\n",
    "A[0, 0] = 1\n",
    "display(A)"
   ]
  },
  {
   "cell_type": "code",
   "execution_count": 16,
   "metadata": {},
   "outputs": [
    {
     "data": {
      "text/plain": [
       "array([[0, 1, 2, 3, 4],\n",
       "       [5, 6, 7, 8, 9]])"
      ]
     },
     "metadata": {},
     "output_type": "display_data"
    },
    {
     "data": {
      "text/plain": [
       "2"
      ]
     },
     "metadata": {},
     "output_type": "display_data"
    },
    {
     "data": {
      "text/plain": [
       "(2, 5)"
      ]
     },
     "metadata": {},
     "output_type": "display_data"
    },
    {
     "data": {
      "text/plain": [
       "10"
      ]
     },
     "metadata": {},
     "output_type": "display_data"
    },
    {
     "data": {
      "text/plain": [
       "array([[0, 5],\n",
       "       [1, 6],\n",
       "       [2, 7],\n",
       "       [3, 8],\n",
       "       [4, 9]])"
      ]
     },
     "metadata": {},
     "output_type": "display_data"
    },
    {
     "data": {
      "text/plain": [
       "dtype('int64')"
      ]
     },
     "metadata": {},
     "output_type": "display_data"
    }
   ],
   "source": [
    "A = np.arange(10).reshape((2, 5))\n",
    "display(A)\n",
    "\n",
    "# Array Attributes\n",
    "display(A.ndim)  # number of dimensions\n",
    "display(A.shape) # shape of the array\n",
    "display(A.size)  # number of elements\n",
    "display(A.T)     # transpose of array\n",
    "display(A.dtype) # data type"
   ]
  },
  {
   "cell_type": "markdown",
   "metadata": {},
   "source": [
    "## Basic Operations"
   ]
  },
  {
   "cell_type": "code",
   "execution_count": 17,
   "metadata": {},
   "outputs": [
    {
     "data": {
      "text/plain": [
       "array([0, 1, 2, 3])"
      ]
     },
     "metadata": {},
     "output_type": "display_data"
    },
    {
     "data": {
      "text/plain": [
       "array([2, 3, 2, 4])"
      ]
     },
     "metadata": {},
     "output_type": "display_data"
    },
    {
     "data": {
      "text/plain": [
       "array([ 0,  3,  4, 12])"
      ]
     },
     "metadata": {},
     "output_type": "display_data"
    },
    {
     "data": {
      "text/plain": [
       "array([2, 4, 4, 7])"
      ]
     },
     "metadata": {},
     "output_type": "display_data"
    },
    {
     "data": {
      "text/plain": [
       "array([-2, -2,  0, -1])"
      ]
     },
     "metadata": {},
     "output_type": "display_data"
    },
    {
     "data": {
      "text/plain": [
       "array([0.        , 0.33333333, 1.        , 0.75      ])"
      ]
     },
     "metadata": {},
     "output_type": "display_data"
    }
   ],
   "source": [
    "a = np.arange(4)\n",
    "display(a)\n",
    "b = np.array([2, 3, 2, 4])\n",
    "display(b)\n",
    "\n",
    "# Element wise multiplication\n",
    "display(a * b)\n",
    "\n",
    "# Element wise addition\n",
    "display(a + b)\n",
    "\n",
    "# Element wise subtraction\n",
    "display(a - b)\n",
    "\n",
    "# Element wise division\n",
    "display(a / b)"
   ]
  },
  {
   "attachments": {
    "image.png": {
     "image/png": "[encoded data removed]"
    }
   },
   "cell_type": "markdown",
   "metadata": {},
   "source": [
    "## Array Broadcasting\n",
    "Tow dimensions are Compatible if:\n",
    "1. They are of equal size\n",
    "2. One of them is 1\n",
    "\n",
    "![image.png](attachment:image.png)"
   ]
  },
  {
   "cell_type": "code",
   "execution_count": 18,
   "metadata": {},
   "outputs": [
    {
     "data": {
      "text/plain": [
       "array([[ 0,  2,  4],\n",
       "       [ 3,  5,  7],\n",
       "       [ 6,  8, 10],\n",
       "       [ 9, 11, 13]])"
      ]
     },
     "execution_count": 18,
     "metadata": {},
     "output_type": "execute_result"
    }
   ],
   "source": [
    "a = np.arange(12).reshape((4, 3))\n",
    "b = np.arange(3)\n",
    "\n",
    "a + b"
   ]
  },
  {
   "cell_type": "code",
   "execution_count": 19,
   "metadata": {},
   "outputs": [
    {
     "data": {
      "text/plain": [
       "array([-1,  1,  3])"
      ]
     },
     "execution_count": 19,
     "metadata": {},
     "output_type": "execute_result"
    }
   ],
   "source": [
    "# Broadcast with scalers\n",
    "b * 2 - 1"
   ]
  },
  {
   "cell_type": "markdown",
   "metadata": {},
   "source": [
    "## Vector Operations\n",
    "1. inner product\n",
    "2. outer product\n",
    "3. dot product"
   ]
  },
  {
   "cell_type": "code",
   "execution_count": 20,
   "metadata": {},
   "outputs": [
    {
     "data": {
      "text/plain": [
       "np.int64(6)"
      ]
     },
     "metadata": {},
     "output_type": "display_data"
    },
    {
     "data": {
      "text/plain": [
       "array([[1, 1, 1],\n",
       "       [2, 2, 2],\n",
       "       [3, 3, 3]])"
      ]
     },
     "metadata": {},
     "output_type": "display_data"
    },
    {
     "data": {
      "text/plain": [
       "np.int64(6)"
      ]
     },
     "metadata": {},
     "output_type": "display_data"
    }
   ],
   "source": [
    "u = [1, 2, 3]\n",
    "v = [1, 1, 1]\n",
    "\n",
    "# inner product\n",
    "display(np.inner(u, v))\n",
    "\n",
    "# outer product\n",
    "display(np.outer(u, v))\n",
    "\n",
    "# dot product (matrix multiplication)\n",
    "display(np.dot(u, v))"
   ]
  },
  {
   "cell_type": "code",
   "execution_count": 21,
   "metadata": {},
   "outputs": [
    {
     "data": {
      "text/plain": [
       "array([[17, 23],\n",
       "       [39, 53]])"
      ]
     },
     "execution_count": 21,
     "metadata": {},
     "output_type": "execute_result"
    }
   ],
   "source": [
    "# inner product performs the sum of the product over the last axis\n",
    "a = np.array([[1, 2], [3, 4]])\n",
    "b = np.array([[5, 6], [7, 8]])\n",
    "np.inner(a, b)"
   ]
  },
  {
   "cell_type": "markdown",
   "metadata": {},
   "source": [
    "## Matrix Operations"
   ]
  },
  {
   "cell_type": "code",
   "execution_count": 22,
   "metadata": {},
   "outputs": [
    {
     "data": {
      "text/plain": [
       "array([[1., 1., 1.],\n",
       "       [1., 1., 1.]])"
      ]
     },
     "metadata": {},
     "output_type": "display_data"
    }
   ],
   "source": [
    "A = np.ones((3, 2))\n",
    "\n",
    "# Transpose\n",
    "display(A.T)\n",
    "\n",
    "B = np.ones((2, 3))"
   ]
  },
  {
   "cell_type": "code",
   "execution_count": 23,
   "metadata": {},
   "outputs": [
    {
     "data": {
      "text/plain": [
       "array([[2., 2., 2.],\n",
       "       [2., 2., 2.],\n",
       "       [2., 2., 2.]])"
      ]
     },
     "metadata": {},
     "output_type": "display_data"
    },
    {
     "data": {
      "text/plain": [
       "array([[3., 3.],\n",
       "       [3., 3.]])"
      ]
     },
     "metadata": {},
     "output_type": "display_data"
    },
    {
     "data": {
      "text/plain": [
       "array([[2., 2., 2.],\n",
       "       [2., 2., 2.],\n",
       "       [2., 2., 2.]])"
      ]
     },
     "metadata": {},
     "output_type": "display_data"
    }
   ],
   "source": [
    "# Matrix Multiplication\n",
    "display(A.dot(B))\n",
    "\n",
    "display(np.dot(B, A))\n",
    "\n",
    "display(np.dot(B.T, A.T))\n",
    "\n",
    "# display(np.dot(A, B.T)) # Error"
   ]
  },
  {
   "cell_type": "markdown",
   "metadata": {},
   "source": [
    "### Vectorization"
   ]
  },
  {
   "cell_type": "code",
   "execution_count": 55,
   "metadata": {},
   "outputs": [],
   "source": [
    "a = np.array([1, 2, 3])\n",
    "b = np.array([1, 2, 3])"
   ]
  },
  {
   "cell_type": "code",
   "execution_count": 57,
   "metadata": {},
   "outputs": [
    {
     "data": {
      "text/plain": [
       "np.int64(14)"
      ]
     },
     "metadata": {},
     "output_type": "display_data"
    },
    {
     "name": "stdout",
     "output_type": "stream",
     "text": [
      "CPU times: total: 0 ns\n",
      "Wall time: 4 ms\n"
     ]
    }
   ],
   "source": [
    "%%time\n",
    "value = 0\n",
    "for i in range(3):\n",
    "    value += a[i] * b[i]\n",
    "display(value)"
   ]
  },
  {
   "cell_type": "code",
   "execution_count": 58,
   "metadata": {},
   "outputs": [
    {
     "name": "stdout",
     "output_type": "stream",
     "text": [
      "CPU times: total: 0 ns\n",
      "Wall time: 0 ns\n"
     ]
    },
    {
     "data": {
      "text/plain": [
       "array([1, 4, 9])"
      ]
     },
     "execution_count": 58,
     "metadata": {},
     "output_type": "execute_result"
    }
   ],
   "source": [
    "%%time\n",
    "a * b"
   ]
  },
  {
   "cell_type": "code",
   "execution_count": 59,
   "metadata": {},
   "outputs": [
    {
     "name": "stdout",
     "output_type": "stream",
     "text": [
      "CPU times: total: 0 ns\n",
      "Wall time: 0 ns\n"
     ]
    },
    {
     "data": {
      "text/plain": [
       "np.int64(14)"
      ]
     },
     "execution_count": 59,
     "metadata": {},
     "output_type": "execute_result"
    }
   ],
   "source": [
    "%%time\n",
    "np.linalg.matmul(a, b)"
   ]
  },
  {
   "cell_type": "code",
   "execution_count": 60,
   "metadata": {},
   "outputs": [
    {
     "name": "stdout",
     "output_type": "stream",
     "text": [
      "CPU times: total: 0 ns\n",
      "Wall time: 0 ns\n"
     ]
    },
    {
     "data": {
      "text/plain": [
       "np.int64(14)"
      ]
     },
     "execution_count": 60,
     "metadata": {},
     "output_type": "execute_result"
    }
   ],
   "source": [
    "%%time\n",
    "np.dot(a, b)"
   ]
  },
  {
   "cell_type": "markdown",
   "metadata": {},
   "source": [
    "## Operations along axes"
   ]
  },
  {
   "cell_type": "code",
   "execution_count": 24,
   "metadata": {},
   "outputs": [
    {
     "data": {
      "text/plain": [
       "array([[0.70672785, 0.90088417, 0.99530532],\n",
       "       [0.436113  , 0.11145109, 0.91631008]])"
      ]
     },
     "execution_count": 24,
     "metadata": {},
     "output_type": "execute_result"
    }
   ],
   "source": [
    "a = np.random.random((2, 3))\n",
    "a"
   ]
  },
  {
   "cell_type": "code",
   "execution_count": 25,
   "metadata": {},
   "outputs": [
    {
     "data": {
      "text/plain": [
       "np.float64(4.066791524531272)"
      ]
     },
     "metadata": {},
     "output_type": "display_data"
    },
    {
     "data": {
      "text/plain": [
       "array([1.14284085, 1.01233527, 1.91161541])"
      ]
     },
     "metadata": {},
     "output_type": "display_data"
    },
    {
     "data": {
      "text/plain": [
       "array([2.60291734, 1.46387418])"
      ]
     },
     "metadata": {},
     "output_type": "display_data"
    }
   ],
   "source": [
    "# Sum all array elements\n",
    "display(a.sum())\n",
    "\n",
    "# column sum\n",
    "display(a.sum(axis=0))\n",
    "\n",
    "# row sum\n",
    "display(a.sum(axis=1))"
   ]
  },
  {
   "cell_type": "code",
   "execution_count": 26,
   "metadata": {},
   "outputs": [
    {
     "data": {
      "text/plain": [
       "array([0.70672785, 1.60761202, 2.60291734, 3.03903035, 3.15048144,\n",
       "       4.06679152])"
      ]
     },
     "metadata": {},
     "output_type": "display_data"
    },
    {
     "data": {
      "text/plain": [
       "array([[0.70672785, 0.90088417, 0.99530532],\n",
       "       [1.14284085, 1.01233527, 1.91161541]])"
      ]
     },
     "metadata": {},
     "output_type": "display_data"
    },
    {
     "data": {
      "text/plain": [
       "array([[0.70672785, 1.60761202, 2.60291734],\n",
       "       [0.436113  , 0.5475641 , 1.46387418]])"
      ]
     },
     "metadata": {},
     "output_type": "display_data"
    }
   ],
   "source": [
    "# cumulative sum for all elements\n",
    "display(a.cumsum())\n",
    "\n",
    "# cumulative sum for columns\n",
    "display(a.cumsum(axis=0))\n",
    "\n",
    "# cumulative sum for rows\n",
    "display(a.cumsum(axis=1))\n"
   ]
  },
  {
   "cell_type": "code",
   "execution_count": 27,
   "metadata": {},
   "outputs": [
    {
     "data": {
      "text/plain": [
       "np.float64(0.11145109422762989)"
      ]
     },
     "metadata": {},
     "output_type": "display_data"
    },
    {
     "data": {
      "text/plain": [
       "np.float64(0.995305320850733)"
      ]
     },
     "metadata": {},
     "output_type": "display_data"
    },
    {
     "data": {
      "text/plain": [
       "array([0.70672785, 0.90088417, 0.99530532])"
      ]
     },
     "metadata": {},
     "output_type": "display_data"
    },
    {
     "data": {
      "text/plain": [
       "array([0.99530532, 0.91631008])"
      ]
     },
     "metadata": {},
     "output_type": "display_data"
    },
    {
     "data": {
      "text/plain": [
       "array([0.436113  , 0.11145109, 0.91631008])"
      ]
     },
     "metadata": {},
     "output_type": "display_data"
    },
    {
     "data": {
      "text/plain": [
       "array([0.70672785, 0.11145109])"
      ]
     },
     "metadata": {},
     "output_type": "display_data"
    }
   ],
   "source": [
    "# Minimum element of the array\n",
    "display(a.min())\n",
    "\n",
    "# Maximum element of the array\n",
    "display(a.max())\n",
    "\n",
    "# Maximum element of each column\n",
    "display(a.max(axis=0))\n",
    "\n",
    "# Maximum element of each row\n",
    "display(a.max(axis=1))\n",
    "\n",
    "# Minimum element of each column\n",
    "display(a.min(axis=0))\n",
    "\n",
    "# Minimum element of each row\n",
    "display(a.min(axis=1))"
   ]
  },
  {
   "cell_type": "markdown",
   "metadata": {},
   "source": [
    "## Slicing arrays"
   ]
  },
  {
   "cell_type": "code",
   "execution_count": 28,
   "metadata": {},
   "outputs": [
    {
     "data": {
      "text/plain": [
       "array([[0.13476366, 0.10374286, 0.8384994 , 0.20562218, 0.83806909],\n",
       "       [0.70645442, 0.51683147, 0.62107514, 0.92330495, 0.09004458],\n",
       "       [0.77511213, 0.29532215, 0.08900747, 0.02642776, 0.36932574],\n",
       "       [0.04186934, 0.91566262, 0.09253999, 0.04715968, 0.71307232]])"
      ]
     },
     "execution_count": 28,
     "metadata": {},
     "output_type": "execute_result"
    }
   ],
   "source": [
    "a = np.random.random((4, 5))\n",
    "a"
   ]
  },
  {
   "cell_type": "code",
   "execution_count": 29,
   "metadata": {},
   "outputs": [
    {
     "data": {
      "text/plain": [
       "array([0.77511213, 0.29532215, 0.08900747, 0.02642776, 0.36932574])"
      ]
     },
     "metadata": {},
     "output_type": "display_data"
    },
    {
     "data": {
      "text/plain": [
       "array([[0.70645442, 0.51683147, 0.62107514, 0.92330495, 0.09004458],\n",
       "       [0.77511213, 0.29532215, 0.08900747, 0.02642776, 0.36932574]])"
      ]
     },
     "metadata": {},
     "output_type": "display_data"
    },
    {
     "data": {
      "text/plain": [
       "array([[0.8384994 , 0.20562218],\n",
       "       [0.62107514, 0.92330495],\n",
       "       [0.08900747, 0.02642776],\n",
       "       [0.09253999, 0.04715968]])"
      ]
     },
     "metadata": {},
     "output_type": "display_data"
    }
   ],
   "source": [
    "# 3rd row, all columns\n",
    "display(a[2, :])\n",
    "\n",
    "# 2nd and 3rd row, all columns\n",
    "display(a[1:3])\n",
    "\n",
    "# all rows, columns 3 and 4\n",
    "display(a[:, 2:4])"
   ]
  },
  {
   "cell_type": "markdown",
   "metadata": {},
   "source": [
    "## Iterating over arrays"
   ]
  },
  {
   "cell_type": "code",
   "execution_count": 30,
   "metadata": {},
   "outputs": [
    {
     "data": {
      "text/plain": [
       "array([[0.33780767, 0.45636324, 0.86683946, 0.60826642, 0.27960665],\n",
       "       [0.36396772, 0.6861725 , 0.21151922, 0.24891351, 0.10113944],\n",
       "       [0.47235212, 0.97143519, 0.72608416, 0.78783108, 0.59941741],\n",
       "       [0.93700845, 0.0441738 , 0.31099829, 0.44946145, 0.02109656]])"
      ]
     },
     "execution_count": 30,
     "metadata": {},
     "output_type": "execute_result"
    }
   ],
   "source": [
    "a = np.random.random((4, 5))\n",
    "a"
   ]
  },
  {
   "cell_type": "code",
   "execution_count": 31,
   "metadata": {},
   "outputs": [
    {
     "name": "stdout",
     "output_type": "stream",
     "text": [
      "0.33780767342756324\n",
      "0.4563632373069243\n",
      "0.8668394578395153\n",
      "0.6082664219217548\n",
      "0.27960664878993713\n",
      "0.36396772129329535\n",
      "0.6861725022885861\n",
      "0.21151922023186143\n",
      "0.2489135099110077\n",
      "0.10113943898508992\n",
      "0.4723521199362579\n",
      "0.9714351907349671\n",
      "0.7260841603630139\n",
      "0.7878310756452349\n",
      "0.5994174057653358\n",
      "0.9370084547171517\n",
      "0.04417379691203294\n",
      "0.3109982919150117\n",
      "0.44946144717412007\n",
      "0.021096560753752214\n"
     ]
    }
   ],
   "source": [
    "# Iterate over all elements\n",
    "for element in a.flat:\n",
    "    print(element)"
   ]
  },
  {
   "cell_type": "code",
   "execution_count": 32,
   "metadata": {},
   "outputs": [
    {
     "name": "stdout",
     "output_type": "stream",
     "text": [
      "[0.33780767 0.45636324 0.86683946 0.60826642 0.27960665]\n",
      "[0.36396772 0.6861725  0.21151922 0.24891351 0.10113944]\n",
      "[0.47235212 0.97143519 0.72608416 0.78783108 0.59941741]\n",
      "[0.93700845 0.0441738  0.31099829 0.44946145 0.02109656]\n"
     ]
    }
   ],
   "source": [
    "# Iterate over rows\n",
    "for row in a:\n",
    "    print(row)"
   ]
  },
  {
   "cell_type": "markdown",
   "metadata": {},
   "source": [
    "## Reshaping & Resizing"
   ]
  },
  {
   "cell_type": "code",
   "execution_count": 33,
   "metadata": {},
   "outputs": [
    {
     "data": {
      "text/plain": [
       "array([[0.06497516, 0.05576319, 0.00808221, 0.40887216, 0.02326049],\n",
       "       [0.65842413, 0.19821254, 0.67590972, 0.38765394, 0.18726567],\n",
       "       [0.64856752, 0.94605679, 0.06312492, 0.33575041, 0.83032994],\n",
       "       [0.86233007, 0.50480936, 0.76105924, 0.22249106, 0.95315744]])"
      ]
     },
     "execution_count": 33,
     "metadata": {},
     "output_type": "execute_result"
    }
   ],
   "source": [
    "a = np.random.random((4, 5))\n",
    "a"
   ]
  },
  {
   "cell_type": "code",
   "execution_count": 34,
   "metadata": {},
   "outputs": [
    {
     "data": {
      "text/plain": [
       "array([[0.06497516, 0.05576319, 0.00808221, 0.40887216, 0.02326049,\n",
       "        0.65842413, 0.19821254, 0.67590972, 0.38765394, 0.18726567],\n",
       "       [0.64856752, 0.94605679, 0.06312492, 0.33575041, 0.83032994,\n",
       "        0.86233007, 0.50480936, 0.76105924, 0.22249106, 0.95315744]])"
      ]
     },
     "metadata": {},
     "output_type": "display_data"
    },
    {
     "data": {
      "text/plain": [
       "array([[0.06497516, 0.05576319, 0.00808221],\n",
       "       [0.40887216, 0.02326049, 0.65842413],\n",
       "       [0.19821254, 0.67590972, 0.38765394]])"
      ]
     },
     "metadata": {},
     "output_type": "display_data"
    },
    {
     "data": {
      "text/plain": [
       "array([[0.06497516, 0.05576319, 0.00808221, 0.40887216, 0.02326049],\n",
       "       [0.65842413, 0.19821254, 0.67590972, 0.38765394, 0.18726567],\n",
       "       [0.64856752, 0.94605679, 0.06312492, 0.33575041, 0.83032994],\n",
       "       [0.86233007, 0.50480936, 0.76105924, 0.22249106, 0.95315744],\n",
       "       [0.06497516, 0.05576319, 0.00808221, 0.40887216, 0.02326049]])"
      ]
     },
     "metadata": {},
     "output_type": "display_data"
    },
    {
     "data": {
      "text/plain": [
       "array([[0.89535783, 0.24369373],\n",
       "       [0.16228536, 0.11830153]])"
      ]
     },
     "metadata": {},
     "output_type": "display_data"
    },
    {
     "data": {
      "text/plain": [
       "array([[0.89535783, 0.24369373, 0.16228536, 0.11830153, 0.        ],\n",
       "       [0.        , 0.        , 0.        , 0.        , 0.        ],\n",
       "       [0.        , 0.        , 0.        , 0.        , 0.        ],\n",
       "       [0.        , 0.        , 0.        , 0.        , 0.        ],\n",
       "       [0.        , 0.        , 0.        , 0.        , 0.        ]])"
      ]
     },
     "metadata": {},
     "output_type": "display_data"
    }
   ],
   "source": [
    "# Reshaping, total size must remain the same\n",
    "display(a.reshape((2, 10)))\n",
    "\n",
    "# Resizing, chopping\n",
    "display(np.resize(a, (3, 3)))\n",
    "\n",
    "# Resizing, filled with repeated copies of a\n",
    "display(np.resize(a, (5, 5)))\n",
    "\n",
    "b = np.random.random((2, 2))\n",
    "display(b)\n",
    "\n",
    "# Resizing, filled with zeros\n",
    "b.resize((5, 5))\n",
    "display(b)"
   ]
  },
  {
   "cell_type": "markdown",
   "metadata": {},
   "source": [
    "## Matrix Operations"
   ]
  },
  {
   "cell_type": "code",
   "execution_count": 35,
   "metadata": {},
   "outputs": [
    {
     "data": {
      "text/plain": [
       "array([[1., 0., 0.],\n",
       "       [0., 1., 0.],\n",
       "       [0., 0., 1.]])"
      ]
     },
     "execution_count": 35,
     "metadata": {},
     "output_type": "execute_result"
    }
   ],
   "source": [
    "# Identity matrix\n",
    "np.eye(3)"
   ]
  },
  {
   "cell_type": "code",
   "execution_count": 36,
   "metadata": {},
   "outputs": [
    {
     "data": {
      "text/plain": [
       "array([[0, 1, 2],\n",
       "       [3, 4, 5],\n",
       "       [6, 7, 8]])"
      ]
     },
     "metadata": {},
     "output_type": "display_data"
    },
    {
     "data": {
      "text/plain": [
       "np.int64(12)"
      ]
     },
     "metadata": {},
     "output_type": "display_data"
    },
    {
     "data": {
      "text/plain": [
       "np.int64(6)"
      ]
     },
     "metadata": {},
     "output_type": "display_data"
    },
    {
     "data": {
      "text/plain": [
       "np.int64(10)"
      ]
     },
     "metadata": {},
     "output_type": "display_data"
    }
   ],
   "source": [
    "# Trace\n",
    "a = np.arange(9).reshape((3, 3))\n",
    "display(a)\n",
    "\n",
    "# Sum of the main diagonal\n",
    "display(np.linalg.trace(a))\n",
    "\n",
    "# Sum of the diagonal above the main diagonal\n",
    "display(np.trace(a, offset=1))\n",
    "\n",
    "# Sum of the diagonal bellow the main diagonal\n",
    "display(np.linalg.trace(a, offset=-1))"
   ]
  },
  {
   "cell_type": "code",
   "execution_count": 37,
   "metadata": {},
   "outputs": [
    {
     "data": {
      "text/plain": [
       "array([[1, 4],\n",
       "       [2, 5],\n",
       "       [3, 6]])"
      ]
     },
     "metadata": {},
     "output_type": "display_data"
    },
    {
     "name": "stderr",
     "output_type": "stream",
     "text": [
      "C:\\Users\\LOQ\\AppData\\Local\\Temp\\ipykernel_6780\\1318355893.py:8: DeprecationWarning: `row_stack` alias is deprecated. Use `np.vstack` directly.\n",
      "  display(np.row_stack((a, b)))\n"
     ]
    },
    {
     "data": {
      "text/plain": [
       "array([[1, 2, 3],\n",
       "       [4, 5, 6]])"
      ]
     },
     "metadata": {},
     "output_type": "display_data"
    },
    {
     "data": {
      "text/plain": [
       "array([[0],\n",
       "       [1],\n",
       "       [2]])"
      ]
     },
     "metadata": {},
     "output_type": "display_data"
    },
    {
     "data": {
      "text/plain": [
       "array([[3],\n",
       "       [4],\n",
       "       [5]])"
      ]
     },
     "metadata": {},
     "output_type": "display_data"
    },
    {
     "data": {
      "text/plain": [
       "array([[0],\n",
       "       [1],\n",
       "       [2],\n",
       "       [3],\n",
       "       [4],\n",
       "       [5]])"
      ]
     },
     "metadata": {},
     "output_type": "display_data"
    },
    {
     "data": {
      "text/plain": [
       "array([[0, 3],\n",
       "       [1, 4],\n",
       "       [2, 5]])"
      ]
     },
     "metadata": {},
     "output_type": "display_data"
    }
   ],
   "source": [
    "a = np.array([1, 2, 3])\n",
    "b = np.array([4, 5, 6])\n",
    "\n",
    "# Stack 1-D arrays as columns into a 2-D array.\n",
    "display(np.column_stack((a, b)))\n",
    "\n",
    "# Stack 1-D arrays as rows into a 2-D array.\n",
    "display(np.row_stack((a, b)))\n",
    "\n",
    "a = np.arange(3).reshape((3, 1))\n",
    "b = np.arange(3, 6).reshape((3, 1))\n",
    "display(a)\n",
    "display(b)\n",
    "\n",
    "# Stack arrays in sequence vertically (row wise).\n",
    "display(np.vstack((a, b)))\n",
    "\n",
    "# Stack arrays in sequence horizontally (column wise).\n",
    "display(np.hstack((a, b)))"
   ]
  },
  {
   "cell_type": "markdown",
   "metadata": {},
   "source": [
    "## Linear Algebra"
   ]
  },
  {
   "cell_type": "code",
   "execution_count": 38,
   "metadata": {},
   "outputs": [
    {
     "data": {
      "text/plain": [
       "array([[0, 1],\n",
       "       [2, 3]])"
      ]
     },
     "metadata": {},
     "output_type": "display_data"
    },
    {
     "data": {
      "text/plain": [
       "array([[-1.5,  0.5],\n",
       "       [ 1. ,  0. ]])"
      ]
     },
     "metadata": {},
     "output_type": "display_data"
    }
   ],
   "source": [
    "A = np.arange(4).reshape((2, 2))\n",
    "display(A)\n",
    "\n",
    "# Matrix Inverse\n",
    "display(np.linalg.inv(A))"
   ]
  },
  {
   "cell_type": "code",
   "execution_count": 39,
   "metadata": {},
   "outputs": [
    {
     "data": {
      "text/plain": [
       "array([[1.],\n",
       "       [3.]])"
      ]
     },
     "execution_count": 39,
     "metadata": {},
     "output_type": "execute_result"
    }
   ],
   "source": [
    "A = np.array([[2, 1],\n",
    "              [1, 3]])\n",
    "\n",
    "b = np.array([[5],\n",
    "              [10]])\n",
    "\n",
    "# Solve Ax=b (A must be a square matrix 'full rank')\n",
    "np.linalg.solve(A, b)"
   ]
  },
  {
   "cell_type": "code",
   "execution_count": 40,
   "metadata": {},
   "outputs": [
    {
     "data": {
      "text/plain": [
       "array([[ 0.58976913],\n",
       "       [ 0.1803531 ],\n",
       "       [ 5.07885921],\n",
       "       [-0.19483929]])"
      ]
     },
     "metadata": {},
     "output_type": "display_data"
    },
    {
     "data": {
      "text/plain": [
       "array([], dtype=float64)"
      ]
     },
     "metadata": {},
     "output_type": "display_data"
    },
    {
     "data": {
      "text/plain": [
       "np.int32(2)"
      ]
     },
     "metadata": {},
     "output_type": "display_data"
    },
    {
     "data": {
      "text/plain": [
       "array([12.71575677,  8.26495795])"
      ]
     },
     "metadata": {},
     "output_type": "display_data"
    }
   ],
   "source": [
    "A = np.array([[1, 0, 8, -4],\n",
    "              [0, 1, 2, 12]])\n",
    "\n",
    "b = np.array([[42],\n",
    "              [8]])\n",
    "\n",
    "# Return the least-squares solution to a linear matrix equation.\n",
    "x, residuals, rank, s = np.linalg.lstsq(A, b, rcond=None)\n",
    "display(x, residuals, rank, s)"
   ]
  },
  {
   "cell_type": "code",
   "execution_count": 41,
   "metadata": {},
   "outputs": [
    {
     "data": {
      "text/plain": [
       "array([5., 1.])"
      ]
     },
     "metadata": {},
     "output_type": "display_data"
    },
    {
     "data": {
      "text/plain": [
       "array([5., 1.])"
      ]
     },
     "metadata": {},
     "output_type": "display_data"
    },
    {
     "data": {
      "text/plain": [
       "array([[ 0.70710678, -0.70710678],\n",
       "       [ 0.70710678,  0.70710678]])"
      ]
     },
     "metadata": {},
     "output_type": "display_data"
    }
   ],
   "source": [
    "A = np.array([[3, 2],\n",
    "             [2, 3]])\n",
    "\n",
    "# Compute the eigen values\n",
    "display(np.linalg.eigvals(A))\n",
    "\n",
    "# Compute the eigen vectors & values\n",
    "eigenvalues, eigenvectors = np.linalg.eig(A)\n",
    "display(eigenvalues, eigenvectors)"
   ]
  },
  {
   "cell_type": "code",
   "execution_count": 42,
   "metadata": {},
   "outputs": [
    {
     "data": {
      "text/plain": [
       "array([[0, 1],\n",
       "       [2, 3]])"
      ]
     },
     "metadata": {},
     "output_type": "display_data"
    },
    {
     "data": {
      "text/plain": [
       "array([[-1.50000000e+00,  5.00000000e-01],\n",
       "       [ 1.00000000e+00,  4.21097322e-17]])"
      ]
     },
     "metadata": {},
     "output_type": "display_data"
    },
    {
     "data": {
      "text/plain": [
       "array([[-1.5,  0.5],\n",
       "       [ 1. ,  0. ]])"
      ]
     },
     "metadata": {},
     "output_type": "display_data"
    }
   ],
   "source": [
    "A = np.arange(4).reshape((2, 2))\n",
    "display(A)\n",
    "\n",
    "# Computes pseudo-inverse of A\n",
    "display(np.linalg.pinv(A))\n",
    "display((np.linalg.inv(A.T@A))@A.T)\n",
    "\n",
    "\n",
    "# A = np.array([[1, 3],\n",
    "#              [2, 6]])\n",
    "# display(A)\n",
    "# Computes pseudo-inverse of A\n",
    "# display(np.linalg.pinv(A))\n",
    "# display((np.linalg.inv(A.T@A))@A.T)  # Error because of linear dependency\n"
   ]
  },
  {
   "cell_type": "markdown",
   "metadata": {},
   "source": [
    "## Random Sampling"
   ]
  },
  {
   "cell_type": "code",
   "execution_count": 43,
   "metadata": {},
   "outputs": [
    {
     "data": {
      "text/plain": [
       "array([[0.85705462, 0.55138578, 0.10501719],\n",
       "       [0.82180956, 0.20811146, 0.93406649]])"
      ]
     },
     "metadata": {},
     "output_type": "display_data"
    },
    {
     "data": {
      "image/png": "[encoded data removed]",
      "text/plain": [
       "<Figure size 640x480 with 1 Axes>"
      ]
     },
     "metadata": {},
     "output_type": "display_data"
    }
   ],
   "source": [
    "# Random values in a given shape\n",
    "# uniform distribution over [0, 1)\n",
    "a = np.random.rand(2, 3)\n",
    "display(a)\n",
    "\n",
    "a = np.random.rand(1000)\n",
    "plt.hist(a)\n",
    "plt.show()"
   ]
  },
  {
   "cell_type": "code",
   "execution_count": 44,
   "metadata": {},
   "outputs": [
    {
     "data": {
      "text/plain": [
       "array([[ 0.52152678, -0.08977551, -0.09044839],\n",
       "       [ 0.11147242, -0.17357881, -0.21184102]])"
      ]
     },
     "metadata": {},
     "output_type": "display_data"
    },
    {
     "data": {
      "image/png": "[encoded data removed]",
      "text/plain": [
       "<Figure size 640x480 with 1 Axes>"
      ]
     },
     "metadata": {},
     "output_type": "display_data"
    }
   ],
   "source": [
    "# Return a sample (or samples) from the “standard normal” distribution.\n",
    "# univariate “normal” (Gaussian) distribution of mean 0 and variance 1\n",
    "a = np.random.randn(2, 3)\n",
    "display(a)\n",
    "\n",
    "a = np.random.randn(1000)\n",
    "plt.hist(a)\n",
    "plt.show()"
   ]
  },
  {
   "cell_type": "code",
   "execution_count": 45,
   "metadata": {},
   "outputs": [
    {
     "data": {
      "text/plain": [
       "array([[ 84, -30, -22],\n",
       "       [ 30,  95,  29],\n",
       "       [-78, -30,  16]], dtype=int32)"
      ]
     },
     "execution_count": 45,
     "metadata": {},
     "output_type": "execute_result"
    }
   ],
   "source": [
    "# Random integers [low to hi)\n",
    "a = np.random.randint(-100, 100, (3, 3))\n",
    "a"
   ]
  },
  {
   "cell_type": "code",
   "execution_count": 46,
   "metadata": {},
   "outputs": [
    {
     "data": {
      "text/plain": [
       "array([0, 1, 2, 3, 4, 5, 6, 7, 8])"
      ]
     },
     "metadata": {},
     "output_type": "display_data"
    },
    {
     "data": {
      "text/plain": [
       "array([6, 0])"
      ]
     },
     "execution_count": 46,
     "metadata": {},
     "output_type": "execute_result"
    }
   ],
   "source": [
    "a = np.arange(9)\n",
    "display(a)\n",
    "\n",
    "# Generates a random sample from a given 1-D array\n",
    "np.random.choice(a, 2)"
   ]
  },
  {
   "cell_type": "code",
   "execution_count": 47,
   "metadata": {},
   "outputs": [
    {
     "data": {
      "text/plain": [
       "array([[0, 1, 2],\n",
       "       [3, 4, 5],\n",
       "       [6, 7, 8]])"
      ]
     },
     "metadata": {},
     "output_type": "display_data"
    },
    {
     "data": {
      "text/plain": [
       "array([[0, 1, 2],\n",
       "       [3, 4, 5],\n",
       "       [6, 7, 8]])"
      ]
     },
     "metadata": {},
     "output_type": "display_data"
    },
    {
     "data": {
      "text/plain": [
       "array([[0, 1, 2],\n",
       "       [3, 4, 5],\n",
       "       [6, 7, 8]])"
      ]
     },
     "metadata": {},
     "output_type": "display_data"
    }
   ],
   "source": [
    "a = np.arange(9).reshape((3, 3))\n",
    "display(a)\n",
    "\n",
    "# Permutation in place\n",
    "np.random.shuffle(a)\n",
    "display(a)\n",
    "\n",
    "# Permutation new array\n",
    "b = np.random.permutation(a)\n",
    "display(b)"
   ]
  },
  {
   "cell_type": "markdown",
   "metadata": {},
   "source": [
    "## Distributions in Random"
   ]
  },
  {
   "attachments": {
    "image.png": {
     "image/png": "[encoded data removed]"
    }
   },
   "cell_type": "markdown",
   "metadata": {},
   "source": [
    "![image.png](attachment:image.png)"
   ]
  },
  {
   "cell_type": "code",
   "execution_count": 48,
   "metadata": {},
   "outputs": [
    {
     "data": {
      "text/plain": [
       "array([-0.77215894,  0.91809355,  2.2739948 ,  0.24735496, -0.76945816,\n",
       "        0.45513793,  0.34776353, -0.36722287,  0.50727739, -0.15878071])"
      ]
     },
     "metadata": {},
     "output_type": "display_data"
    },
    {
     "data": {
      "image/png": "[encoded data removed]",
      "text/plain": [
       "<Figure size 640x480 with 1 Axes>"
      ]
     },
     "metadata": {},
     "output_type": "display_data"
    }
   ],
   "source": [
    "display(np.random.normal(loc=0, scale=1, size=10))\n",
    "\n",
    "a = np.random.normal(loc=5, scale=2, size=100)\n",
    "plt.hist(a)\n",
    "plt.show()"
   ]
  }
 ],
 "metadata": {
  "kernelspec": {
   "display_name": "ml-env",
   "language": "python",
   "name": "python3"
  },
  "language_info": {
   "codemirror_mode": {
    "name": "ipython",
    "version": 3
   },
   "file_extension": ".py",
   "mimetype": "text/x-python",
   "name": "python",
   "nbconvert_exporter": "python",
   "pygments_lexer": "ipython3",
   "version": "3.11.9"
  }
 },
 "nbformat": 4,
 "nbformat_minor": 2
}
